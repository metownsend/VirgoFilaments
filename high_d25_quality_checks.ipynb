{
 "cells": [
  {
   "cell_type": "code",
   "execution_count": 1,
   "metadata": {},
   "outputs": [],
   "source": [
    "from astropy.io import fits\n",
    "from astropy.table import Table\n",
    "import numpy as np\n",
    "import matplotlib.pylab as plt \n",
    "import matplotlib.lines as mlines\n",
    "from matplotlib.legend import Legend\n",
    "# from pythonds.basic.stack import Stack\n",
    "# from math import *\n",
    "# from sklearn.neighbors import KDTree\n",
    "# from scipy import stats\n",
    "# from astropy import stats\n",
    "# import healpy as hp\n",
    "# from mpl_toolkits.axes_grid1 import make_axes_locatable\n",
    "import random"
   ]
  },
  {
   "cell_type": "code",
   "execution_count": 2,
   "metadata": {},
   "outputs": [
    {
     "name": "stdout",
     "output_type": "stream",
     "text": [
      "3014\n"
     ]
    }
   ],
   "source": [
    "# read in Virgo filaments catalog with log(d25) >= 0.8\n",
    "\n",
    "hdu = fits.open('/Users/mindy/Desktop/vf_v0_highd25')\n",
    "\n",
    "vf_highd25 = hdu[1].data\n",
    "\n",
    "print(len(vf_highd25))\n"
   ]
  },
  {
   "cell_type": "code",
   "execution_count": 7,
   "metadata": {},
   "outputs": [
    {
     "name": "stdout",
     "output_type": "stream",
     "text": [
      "3014\n",
      "[185.86877 182.208   145.94466 185.57309 182.82774 173.13419 121.91241\n",
      " 118.2363  274.94318 183.47745]\n",
      "[74.95225  74.904274 74.85958  74.83839  74.80822  74.62754  74.58463\n",
      " 74.57653  74.56839  74.5014  ]\n",
      "[0.9   1.219 1.318 0.94  1.135 1.21  0.954 0.893 1.521 1.12 ]\n"
     ]
    }
   ],
   "source": [
    "# hdu.info()\n",
    "\n",
    "ra = vf_highd25.field('ra')\n",
    "print(len(ra))\n",
    "print(ra[0:10])\n",
    "\n",
    "dec = vf_highd25.field('dec')\n",
    "print(dec[0:10])\n",
    "\n",
    "logd25 = vf_highd25.field('logd25')\n",
    "print(logd25[0:10])"
   ]
  },
  {
   "cell_type": "code",
   "execution_count": 9,
   "metadata": {},
   "outputs": [
    {
     "name": "stdout",
     "output_type": "stream",
     "text": [
      "[0.8    0.9424 1.0848 1.2272 1.3696 1.512  1.6544 1.7968 1.9392 2.0816\n",
      " 2.224 ]\n"
     ]
    },
    {
     "data": {
      "image/png": "[encoded data removed]",
      "text/plain": [
       "<Figure size 432x288 with 1 Axes>"
      ]
     },
     "metadata": {},
     "output_type": "display_data"
    }
   ],
   "source": [
    "hist, edges = np.histogram(logd25)\n",
    "print(edges)\n",
    "\n",
    "plt.hist(logd25)\n",
    "plt.show()"
   ]
  },
  {
   "cell_type": "code",
   "execution_count": 29,
   "metadata": {},
   "outputs": [],
   "source": [
    "bin0 = ((logd25 >= edges[0]) & (logd25 < edges[1]))\n",
    "bin1 = ((logd25 >= edges[1]) & (logd25 < edges[2]))\n",
    "bin2 = ((logd25 >= edges[2]) & (logd25 < edges[3]))\n",
    "bin3 = ((logd25 >= edges[3]) & (logd25 < edges[4]))\n",
    "bin4 = ((logd25 >= edges[4]) & (logd25 < edges[5]))\n",
    "bin5 = ((logd25 >= edges[5]) & (logd25 < edges[6]))\n",
    "bin6 = ((logd25 >= edges[6]) & (logd25 < edges[10]))\n",
    "# bin7 = ((logd25 >= edges[7]) & (logd25 < edges[8]))\n",
    "# bin8 = ((logd25 >= edges[8]) & (logd25 < edges[9]))\n",
    "# bin9 = ((logd25 >= edges[9]) & (logd25 <= edges[10]))\n",
    "\n",
    "# print(len(logd25[bin0]))\n",
    "# print(len(logd25[bin1]))\n",
    "# print(len(logd25[bin2]))\n",
    "# print(len(logd25[bin3]))\n",
    "# print(len(logd25[bin4]))\n",
    "# print(len(logd25[bin5]))\n",
    "# print(len(logd25[bin6]))\n",
    "# print(len(logd25[bin7]))\n",
    "# print(len(logd25[bin8]))\n",
    "# print(len(logd25[bin9]))\n",
    "\n",
    "ind0 = list(range(0, len(ra[bin0])))\n",
    "ind1 = list(range(0, len(ra[bin1])))\n",
    "ind2 = list(range(0, len(ra[bin2])))\n",
    "ind3 = list(range(0, len(ra[bin3])))\n",
    "ind4 = list(range(0, len(ra[bin4])))\n",
    "ind5 = list(range(0, len(ra[bin5])))\n",
    "ind6 = list(range(0, len(ra[bin6])))\n",
    "\n",
    "rand0 = np.random.choice(ind0, size=20, replace=False)\n",
    "rand1 = np.random.choice(ind1, size=20, replace=False)\n",
    "rand2 = np.random.choice(ind2, size=20, replace=False)\n",
    "rand3 = np.random.choice(ind3, size=20, replace=False)\n",
    "rand4 = np.random.choice(ind4, size=20, replace=False)\n",
    "rand5 = np.random.choice(ind5, size=20, replace=False)\n",
    "rand6 = np.random.choice(ind6, size=20, replace=False)\n"
   ]
  },
  {
   "cell_type": "code",
   "execution_count": 38,
   "metadata": {},
   "outputs": [],
   "source": [
    "ra0 = ra[bin0]\n",
    "dec0 = dec[bin0]\n",
    "\n",
    "ra1 = ra[bin1]\n",
    "dec1 = dec[bin1]\n",
    "\n",
    "ra2 = ra[bin2]\n",
    "dec2 = dec[bin2]\n",
    "\n",
    "ra3 = ra[bin3]\n",
    "dec3 = dec[bin3]\n",
    "\n",
    "ra4 = ra[bin4]\n",
    "dec4 = dec[bin4]\n",
    "\n",
    "ra5 = ra[bin5]\n",
    "dec5 = dec[bin5]\n",
    "\n",
    "ra6 = ra[bin6]\n",
    "dec6 = dec[bin6]\n",
    "\n",
    "\n",
    "\n",
    "# print(rand1)\n",
    "# print()\n",
    "# print(ra1[rand1])\n",
    "# print(dec1[rand1])\n",
    "# print(ra1[763])\n",
    "# print(dec1[763])"
   ]
  },
  {
   "cell_type": "code",
   "execution_count": 39,
   "metadata": {},
   "outputs": [
    {
     "name": "stdout",
     "output_type": "stream",
     "text": [
      "Filename: /Users/mindy/Desktop/bin0.fits\n",
      "No.    Name      Ver    Type      Cards   Dimensions   Format\n",
      "  0  PRIMARY       1 PrimaryHDU       4   ()      \n",
      "  1                1 BinTableHDU     12   20R x 2C   [E, E]   \n",
      "Filename: /Users/mindy/Desktop/bin1.fits\n",
      "No.    Name      Ver    Type      Cards   Dimensions   Format\n",
      "  0  PRIMARY       1 PrimaryHDU       4   ()      \n",
      "  1                1 BinTableHDU     12   20R x 2C   [E, E]   \n",
      "Filename: /Users/mindy/Desktop/bin2.fits\n",
      "No.    Name      Ver    Type      Cards   Dimensions   Format\n",
      "  0  PRIMARY       1 PrimaryHDU       4   ()      \n",
      "  1                1 BinTableHDU     12   20R x 2C   [E, E]   \n",
      "Filename: /Users/mindy/Desktop/bin3.fits\n",
      "No.    Name      Ver    Type      Cards   Dimensions   Format\n",
      "  0  PRIMARY       1 PrimaryHDU       4   ()      \n",
      "  1                1 BinTableHDU     12   20R x 2C   [E, E]   \n",
      "Filename: /Users/mindy/Desktop/bin4.fits\n",
      "No.    Name      Ver    Type      Cards   Dimensions   Format\n",
      "  0  PRIMARY       1 PrimaryHDU       4   ()      \n",
      "  1                1 BinTableHDU     12   20R x 2C   [E, E]   \n",
      "Filename: /Users/mindy/Desktop/bin5.fits\n",
      "No.    Name      Ver    Type      Cards   Dimensions   Format\n",
      "  0  PRIMARY       1 PrimaryHDU       4   ()      \n",
      "  1                1 BinTableHDU     12   20R x 2C   [E, E]   \n",
      "Filename: /Users/mindy/Desktop/bin6.fits\n",
      "No.    Name      Ver    Type      Cards   Dimensions   Format\n",
      "  0  PRIMARY       1 PrimaryHDU       4   ()      \n",
      "  1                1 BinTableHDU     12   20R x 2C   [E, E]   \n"
     ]
    }
   ],
   "source": [
    "# make fits files for randomly selected sources in each logd25 bin\n",
    "\n",
    "from astropy.table import Table\n",
    "t0 = Table([ra0[rand0], dec0[rand0]], names=('RA', 'Dec'))\n",
    "t0.write('/Users/mindy/Desktop/bin0.fits', format='fits')\n",
    "\n",
    "hdu0 = fits.open('/Users/mindy/Desktop/bin0.fits') \n",
    "\n",
    "hdu0.info()\n",
    "\n",
    "t1 = Table([ra1[rand1], dec1[rand1]], names=('RA', 'Dec'))\n",
    "t1.write('/Users/mindy/Desktop/bin1.fits', format='fits')\n",
    "\n",
    "hdu1 = fits.open('/Users/mindy/Desktop/bin1.fits') \n",
    "\n",
    "hdu1.info()\n",
    "\n",
    "t2 = Table([ra2[rand2], dec2[rand2]], names=('RA', 'Dec'))\n",
    "t2.write('/Users/mindy/Desktop/bin2.fits', format='fits')\n",
    "\n",
    "hdu2 = fits.open('/Users/mindy/Desktop/bin2.fits') \n",
    "\n",
    "hdu2.info()\n",
    "\n",
    "t3 = Table([ra3[rand3], dec3[rand3]], names=('RA', 'Dec'))\n",
    "t3.write('/Users/mindy/Desktop/bin3.fits', format='fits')\n",
    "\n",
    "hdu3 = fits.open('/Users/mindy/Desktop/bin3.fits') \n",
    "\n",
    "hdu3.info()\n",
    "\n",
    "t4 = Table([ra4[rand4], dec4[rand4]], names=('RA', 'Dec'))\n",
    "t4.write('/Users/mindy/Desktop/bin4.fits', format='fits')\n",
    "\n",
    "hdu4 = fits.open('/Users/mindy/Desktop/bin4.fits') \n",
    "\n",
    "hdu4.info()\n",
    "\n",
    "t5 = Table([ra5[rand5], dec5[rand5]], names=('RA', 'Dec'))\n",
    "t5.write('/Users/mindy/Desktop/bin5.fits', format='fits')\n",
    "\n",
    "hdu5 = fits.open('/Users/mindy/Desktop/bin5.fits') \n",
    "\n",
    "hdu5.info()\n",
    "\n",
    "t6 = Table([ra6[rand6], dec6[rand6]], names=('RA', 'Dec'))\n",
    "t6.write('/Users/mindy/Desktop/bin6.fits', format='fits')\n",
    "\n",
    "hdu6 = fits.open('/Users/mindy/Desktop/bin6.fits') \n",
    "\n",
    "hdu6.info()"
   ]
  },
  {
   "cell_type": "code",
   "execution_count": null,
   "metadata": {},
   "outputs": [],
   "source": []
  }
 ],
 "metadata": {
  "kernelspec": {
   "display_name": "Python 3",
   "language": "python",
   "name": "python3"
  },
  "language_info": {
   "codemirror_mode": {
    "name": "ipython",
    "version": 3
   },
   "file_extension": ".py",
   "mimetype": "text/x-python",
   "name": "python",
   "nbconvert_exporter": "python",
   "pygments_lexer": "ipython3",
   "version": "3.5.5"
  }
 },
 "nbformat": 4,
 "nbformat_minor": 2
}
